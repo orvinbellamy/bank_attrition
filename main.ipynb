{
  "cells": [
    {
      "cell_type": "markdown",
      "metadata": {
        "id": "gbA6W7Ka4-BO"
      },
      "source": [
        "# Credit Card Customer Attrition Using Machine Learning"
      ]
    },
    {
      "cell_type": "markdown",
      "metadata": {},
      "source": [
        "Contributors: Orvin Bellamy (https://github.com/orvinbellamy/)\n",
        "\n",
        "Python Version 3.8.8\n",
        "\n",
        "Dataset by syviaw\\\n",
        "https://www.kaggle.com/syviaw/bankchurners\n",
        "\n",
        "Refer to the kaggle page for the data dictionary of this dataset\n",
        "\n",
        "Note that this notebook is still a work-in-progress\n",
        "\n",
        "Objective:\\\n",
        "This machine learning model is used to predict likelihood of credit card customer churning (attrition) using logistic regression.\\\n",
        "See the logreg function\n",
        "\n",
        "The dataset from Kaggle is already clean, no data cleaning is required, only the standard preprocessing procedures (standard scaler, one-hot encoding).\\\n",
        "Need further investigations on other variables as features and improving model accuracy.\\\n",
        "The dataset is too bias towards existing customers."
      ]
    },
    {
      "cell_type": "markdown",
      "metadata": {},
      "source": [
        "# Import Packages"
      ]
    },
    {
      "cell_type": "code",
      "execution_count": 34,
      "metadata": {
        "id": "EtZi2kdWXreo"
      },
      "outputs": [],
      "source": [
        "# Import Packages\n",
        "\n",
        "# For pre-processing\n",
        "import pandas as pd\n",
        "from sklearn.pipeline import Pipeline\n",
        "from sklearn.impute import SimpleImputer\n",
        "from sklearn.preprocessing import OneHotEncoder\n",
        "from sklearn.compose import ColumnTransformer\n",
        "from sklearn.preprocessing import MinMaxScaler, StandardScaler\n",
        "from sklearn.model_selection import train_test_split\n",
        "\n",
        "# For building models\n",
        "from sklearn.dummy import DummyClassifier\n",
        "from sklearn.tree import DecisionTreeClassifier\n",
        "from sklearn.model_selection import cross_validate\n",
        "from sklearn.svm import SVC\n",
        "from sklearn.model_selection import GridSearchCV\n",
        "from sklearn.model_selection import RandomizedSearchCV\n",
        "from sklearn.linear_model import LogisticRegression\n",
        "from sklearn.linear_model import LogisticRegressionCV\n",
        "import scipy\n",
        "\n",
        "#For accessing models \n",
        "from sklearn.metrics import classification_report\n",
        "from sklearn.metrics import confusion_matrix\n",
        "from sklearn.metrics import ConfusionMatrixDisplay\n",
        "import matplotlib.pyplot as plt"
      ]
    },
    {
      "cell_type": "markdown",
      "metadata": {
        "id": "TdRL6aAmDjcE"
      },
      "source": [
        "# Pre-processing\n"
      ]
    },
    {
      "cell_type": "code",
      "execution_count": 48,
      "metadata": {
        "colab": {
          "base_uri": "https://localhost:8080/",
          "height": 357
        },
        "id": "d5XUFa4MDwfn",
        "outputId": "819ef86b-21d1-4573-ae1e-283102c99293"
      },
      "outputs": [
        {
          "data": {
            "text/html": [
              "<div>\n",
              "<style scoped>\n",
              "    .dataframe tbody tr th:only-of-type {\n",
              "        vertical-align: middle;\n",
              "    }\n",
              "\n",
              "    .dataframe tbody tr th {\n",
              "        vertical-align: top;\n",
              "    }\n",
              "\n",
              "    .dataframe thead th {\n",
              "        text-align: right;\n",
              "    }\n",
              "</style>\n",
              "<table border=\"1\" class=\"dataframe\">\n",
              "  <thead>\n",
              "    <tr style=\"text-align: right;\">\n",
              "      <th></th>\n",
              "      <th>Attrition_Flag</th>\n",
              "      <th>Customer_Age</th>\n",
              "      <th>Gender</th>\n",
              "      <th>Dependent_count</th>\n",
              "      <th>Education_Level</th>\n",
              "      <th>Marital_Status</th>\n",
              "      <th>Income_Category</th>\n",
              "      <th>Card_Category</th>\n",
              "      <th>Months_on_book</th>\n",
              "      <th>Total_Relationship_Count</th>\n",
              "      <th>...</th>\n",
              "      <th>Credit_Limit</th>\n",
              "      <th>Total_Revolving_Bal</th>\n",
              "      <th>Avg_Open_To_Buy</th>\n",
              "      <th>Total_Amt_Chng_Q4_Q1</th>\n",
              "      <th>Total_Trans_Amt</th>\n",
              "      <th>Total_Trans_Ct</th>\n",
              "      <th>Total_Ct_Chng_Q4_Q1</th>\n",
              "      <th>Avg_Utilization_Ratio</th>\n",
              "      <th>Naive_Bayes_Classifier_Attrition_Flag_Card_Category_Contacts_Count_12_mon_Dependent_count_Education_Level_Months_Inactive_12_mon_1</th>\n",
              "      <th>Naive_Bayes_Classifier_Attrition_Flag_Card_Category_Contacts_Count_12_mon_Dependent_count_Education_Level_Months_Inactive_12_mon_2</th>\n",
              "    </tr>\n",
              "    <tr>\n",
              "      <th>CLIENTNUM</th>\n",
              "      <th></th>\n",
              "      <th></th>\n",
              "      <th></th>\n",
              "      <th></th>\n",
              "      <th></th>\n",
              "      <th></th>\n",
              "      <th></th>\n",
              "      <th></th>\n",
              "      <th></th>\n",
              "      <th></th>\n",
              "      <th></th>\n",
              "      <th></th>\n",
              "      <th></th>\n",
              "      <th></th>\n",
              "      <th></th>\n",
              "      <th></th>\n",
              "      <th></th>\n",
              "      <th></th>\n",
              "      <th></th>\n",
              "      <th></th>\n",
              "      <th></th>\n",
              "    </tr>\n",
              "  </thead>\n",
              "  <tbody>\n",
              "    <tr>\n",
              "      <th>768805383</th>\n",
              "      <td>Existing Customer</td>\n",
              "      <td>45</td>\n",
              "      <td>M</td>\n",
              "      <td>3</td>\n",
              "      <td>High School</td>\n",
              "      <td>Married</td>\n",
              "      <td>$60K - $80K</td>\n",
              "      <td>Blue</td>\n",
              "      <td>39</td>\n",
              "      <td>5</td>\n",
              "      <td>...</td>\n",
              "      <td>12691.0</td>\n",
              "      <td>777</td>\n",
              "      <td>11914.0</td>\n",
              "      <td>1.335</td>\n",
              "      <td>1144</td>\n",
              "      <td>42</td>\n",
              "      <td>1.625</td>\n",
              "      <td>0.061</td>\n",
              "      <td>0.000093</td>\n",
              "      <td>0.99991</td>\n",
              "    </tr>\n",
              "    <tr>\n",
              "      <th>818770008</th>\n",
              "      <td>Existing Customer</td>\n",
              "      <td>49</td>\n",
              "      <td>F</td>\n",
              "      <td>5</td>\n",
              "      <td>Graduate</td>\n",
              "      <td>Single</td>\n",
              "      <td>Less than $40K</td>\n",
              "      <td>Blue</td>\n",
              "      <td>44</td>\n",
              "      <td>6</td>\n",
              "      <td>...</td>\n",
              "      <td>8256.0</td>\n",
              "      <td>864</td>\n",
              "      <td>7392.0</td>\n",
              "      <td>1.541</td>\n",
              "      <td>1291</td>\n",
              "      <td>33</td>\n",
              "      <td>3.714</td>\n",
              "      <td>0.105</td>\n",
              "      <td>0.000057</td>\n",
              "      <td>0.99994</td>\n",
              "    </tr>\n",
              "    <tr>\n",
              "      <th>713982108</th>\n",
              "      <td>Existing Customer</td>\n",
              "      <td>51</td>\n",
              "      <td>M</td>\n",
              "      <td>3</td>\n",
              "      <td>Graduate</td>\n",
              "      <td>Married</td>\n",
              "      <td>$80K - $120K</td>\n",
              "      <td>Blue</td>\n",
              "      <td>36</td>\n",
              "      <td>4</td>\n",
              "      <td>...</td>\n",
              "      <td>3418.0</td>\n",
              "      <td>0</td>\n",
              "      <td>3418.0</td>\n",
              "      <td>2.594</td>\n",
              "      <td>1887</td>\n",
              "      <td>20</td>\n",
              "      <td>2.333</td>\n",
              "      <td>0.000</td>\n",
              "      <td>0.000021</td>\n",
              "      <td>0.99998</td>\n",
              "    </tr>\n",
              "    <tr>\n",
              "      <th>769911858</th>\n",
              "      <td>Existing Customer</td>\n",
              "      <td>40</td>\n",
              "      <td>F</td>\n",
              "      <td>4</td>\n",
              "      <td>High School</td>\n",
              "      <td>Unknown</td>\n",
              "      <td>Less than $40K</td>\n",
              "      <td>Blue</td>\n",
              "      <td>34</td>\n",
              "      <td>3</td>\n",
              "      <td>...</td>\n",
              "      <td>3313.0</td>\n",
              "      <td>2517</td>\n",
              "      <td>796.0</td>\n",
              "      <td>1.405</td>\n",
              "      <td>1171</td>\n",
              "      <td>20</td>\n",
              "      <td>2.333</td>\n",
              "      <td>0.760</td>\n",
              "      <td>0.000134</td>\n",
              "      <td>0.99987</td>\n",
              "    </tr>\n",
              "    <tr>\n",
              "      <th>709106358</th>\n",
              "      <td>Existing Customer</td>\n",
              "      <td>40</td>\n",
              "      <td>M</td>\n",
              "      <td>3</td>\n",
              "      <td>Uneducated</td>\n",
              "      <td>Married</td>\n",
              "      <td>$60K - $80K</td>\n",
              "      <td>Blue</td>\n",
              "      <td>21</td>\n",
              "      <td>5</td>\n",
              "      <td>...</td>\n",
              "      <td>4716.0</td>\n",
              "      <td>0</td>\n",
              "      <td>4716.0</td>\n",
              "      <td>2.175</td>\n",
              "      <td>816</td>\n",
              "      <td>28</td>\n",
              "      <td>2.500</td>\n",
              "      <td>0.000</td>\n",
              "      <td>0.000022</td>\n",
              "      <td>0.99998</td>\n",
              "    </tr>\n",
              "  </tbody>\n",
              "</table>\n",
              "<p>5 rows × 22 columns</p>\n",
              "</div>"
            ],
            "text/plain": [
              "              Attrition_Flag  Customer_Age Gender  Dependent_count  \\\n",
              "CLIENTNUM                                                            \n",
              "768805383  Existing Customer            45      M                3   \n",
              "818770008  Existing Customer            49      F                5   \n",
              "713982108  Existing Customer            51      M                3   \n",
              "769911858  Existing Customer            40      F                4   \n",
              "709106358  Existing Customer            40      M                3   \n",
              "\n",
              "          Education_Level Marital_Status Income_Category Card_Category  \\\n",
              "CLIENTNUM                                                                \n",
              "768805383     High School        Married     $60K - $80K          Blue   \n",
              "818770008        Graduate         Single  Less than $40K          Blue   \n",
              "713982108        Graduate        Married    $80K - $120K          Blue   \n",
              "769911858     High School        Unknown  Less than $40K          Blue   \n",
              "709106358      Uneducated        Married     $60K - $80K          Blue   \n",
              "\n",
              "           Months_on_book  Total_Relationship_Count  ...  Credit_Limit  \\\n",
              "CLIENTNUM                                            ...                 \n",
              "768805383              39                         5  ...       12691.0   \n",
              "818770008              44                         6  ...        8256.0   \n",
              "713982108              36                         4  ...        3418.0   \n",
              "769911858              34                         3  ...        3313.0   \n",
              "709106358              21                         5  ...        4716.0   \n",
              "\n",
              "           Total_Revolving_Bal  Avg_Open_To_Buy  Total_Amt_Chng_Q4_Q1  \\\n",
              "CLIENTNUM                                                               \n",
              "768805383                  777          11914.0                 1.335   \n",
              "818770008                  864           7392.0                 1.541   \n",
              "713982108                    0           3418.0                 2.594   \n",
              "769911858                 2517            796.0                 1.405   \n",
              "709106358                    0           4716.0                 2.175   \n",
              "\n",
              "           Total_Trans_Amt  Total_Trans_Ct  Total_Ct_Chng_Q4_Q1  \\\n",
              "CLIENTNUM                                                         \n",
              "768805383             1144              42                1.625   \n",
              "818770008             1291              33                3.714   \n",
              "713982108             1887              20                2.333   \n",
              "769911858             1171              20                2.333   \n",
              "709106358              816              28                2.500   \n",
              "\n",
              "           Avg_Utilization_Ratio  \\\n",
              "CLIENTNUM                          \n",
              "768805383                  0.061   \n",
              "818770008                  0.105   \n",
              "713982108                  0.000   \n",
              "769911858                  0.760   \n",
              "709106358                  0.000   \n",
              "\n",
              "           Naive_Bayes_Classifier_Attrition_Flag_Card_Category_Contacts_Count_12_mon_Dependent_count_Education_Level_Months_Inactive_12_mon_1  \\\n",
              "CLIENTNUM                                                                                                                                       \n",
              "768805383                                           0.000093                                                                                    \n",
              "818770008                                           0.000057                                                                                    \n",
              "713982108                                           0.000021                                                                                    \n",
              "769911858                                           0.000134                                                                                    \n",
              "709106358                                           0.000022                                                                                    \n",
              "\n",
              "           Naive_Bayes_Classifier_Attrition_Flag_Card_Category_Contacts_Count_12_mon_Dependent_count_Education_Level_Months_Inactive_12_mon_2  \n",
              "CLIENTNUM                                                                                                                                      \n",
              "768805383                                            0.99991                                                                                   \n",
              "818770008                                            0.99994                                                                                   \n",
              "713982108                                            0.99998                                                                                   \n",
              "769911858                                            0.99987                                                                                   \n",
              "709106358                                            0.99998                                                                                   \n",
              "\n",
              "[5 rows x 22 columns]"
            ]
          },
          "execution_count": 48,
          "metadata": {},
          "output_type": "execute_result"
        }
      ],
      "source": [
        "# Reading the dataset\n",
        "df = pd.read_csv('BankChurners.csv', index_col=0)\n",
        "df.head()"
      ]
    },
    {
      "cell_type": "markdown",
      "metadata": {},
      "source": [
        "Dataset discovery, uncomment to use"
      ]
    },
    {
      "cell_type": "code",
      "execution_count": 18,
      "metadata": {
        "colab": {
          "base_uri": "https://localhost:8080/"
        },
        "id": "8Lgpt0mN8dkU",
        "outputId": "7c01433c-ec91-47f0-8858-6f9d576302ce"
      },
      "outputs": [
        {
          "data": {
            "text/plain": [
              "Attrition_Flag                                                                                                                         object\n",
              "Customer_Age                                                                                                                            int64\n",
              "Gender                                                                                                                                 object\n",
              "Dependent_count                                                                                                                         int64\n",
              "Education_Level                                                                                                                        object\n",
              "Marital_Status                                                                                                                         object\n",
              "Income_Category                                                                                                                        object\n",
              "Card_Category                                                                                                                          object\n",
              "Months_on_book                                                                                                                          int64\n",
              "Total_Relationship_Count                                                                                                                int64\n",
              "Months_Inactive_12_mon                                                                                                                  int64\n",
              "Contacts_Count_12_mon                                                                                                                   int64\n",
              "Credit_Limit                                                                                                                          float64\n",
              "Total_Revolving_Bal                                                                                                                     int64\n",
              "Avg_Open_To_Buy                                                                                                                       float64\n",
              "Total_Amt_Chng_Q4_Q1                                                                                                                  float64\n",
              "Total_Trans_Amt                                                                                                                         int64\n",
              "Total_Trans_Ct                                                                                                                          int64\n",
              "Total_Ct_Chng_Q4_Q1                                                                                                                   float64\n",
              "Avg_Utilization_Ratio                                                                                                                 float64\n",
              "Naive_Bayes_Classifier_Attrition_Flag_Card_Category_Contacts_Count_12_mon_Dependent_count_Education_Level_Months_Inactive_12_mon_1    float64\n",
              "Naive_Bayes_Classifier_Attrition_Flag_Card_Category_Contacts_Count_12_mon_Dependent_count_Education_Level_Months_Inactive_12_mon_2    float64\n",
              "label                                                                                                                                   int64\n",
              "dtype: object"
            ]
          },
          "metadata": {},
          "output_type": "display_data"
        }
      ],
      "source": [
        "display(df.dtypes)"
      ]
    },
    {
      "cell_type": "code",
      "execution_count": null,
      "metadata": {
        "colab": {
          "base_uri": "https://localhost:8080/"
        },
        "id": "XkgN2JzGiFD_",
        "outputId": "1fb0a1c4-8d0d-480c-f676-7790c5adf39b"
      },
      "outputs": [],
      "source": [
        "df.columns"
      ]
    },
    {
      "cell_type": "markdown",
      "metadata": {},
      "source": [
        "Dropping null values"
      ]
    },
    {
      "cell_type": "code",
      "execution_count": 49,
      "metadata": {
        "id": "0g8qtTuG2sns"
      },
      "outputs": [],
      "source": [
        "# dropping the null values\n",
        "df.dropna(inplace = True)"
      ]
    },
    {
      "cell_type": "code",
      "execution_count": 50,
      "metadata": {},
      "outputs": [],
      "source": [
        "# Create a new column for the label, attrited customers will be labeled as 1, existing customer will be labeled as 0\n",
        "# df['label'] = 0\n",
        "# df.loc[df['Attrition_Flag'] == 'Attrited Customer', 'label'] = 1"
      ]
    },
    {
      "cell_type": "markdown",
      "metadata": {},
      "source": [
        "Splitting data for training and testing. Random_state is fixed for reproducibility, recommend removing random_state to simulate model performance multiple times."
      ]
    },
    {
      "cell_type": "code",
      "execution_count": 51,
      "metadata": {},
      "outputs": [],
      "source": [
        "features = ['Customer_Age', 'Avg_Utilization_Ratio', 'Total_Revolving_Bal', 'Total_Trans_Amt']\n",
        "label = 'Attrition_Flag'"
      ]
    },
    {
      "cell_type": "code",
      "execution_count": 62,
      "metadata": {
        "id": "OEfV-Hla2vWK"
      },
      "outputs": [],
      "source": [
        "# Splitting the dataset before processing\n",
        "train_df, test_df = train_test_split(df, test_size=0.2, random_state=263)\n",
        "X_train = train_df[features]\n",
        "y_train = train_df[label]\n",
        "X_test = test_df[features]\n",
        "y_test = test_df[label]"
      ]
    },
    {
      "cell_type": "markdown",
      "metadata": {},
      "source": [
        "Preprocessing pipeline"
      ]
    },
    {
      "cell_type": "code",
      "execution_count": 33,
      "metadata": {
        "id": "V7BKvX7S23cY"
      },
      "outputs": [
        {
          "data": {
            "text/plain": [
              "Index(['Customer_Age', 'Avg_Utilization_Ratio', 'Total_Revolving_Bal',\n",
              "       'Total_Trans_Amt'],\n",
              "      dtype='object')"
            ]
          },
          "execution_count": 33,
          "metadata": {},
          "output_type": "execute_result"
        }
      ],
      "source": [
        "# creating the column tansformer\n",
        "categorical_features = X_train.select_dtypes('object').columns\n",
        "categorical_features\n",
        "numerical_features = X_train.select_dtypes(include=['int64', 'float64']).columns\n",
        "numerical_features"
      ]
    },
    {
      "cell_type": "code",
      "execution_count": 41,
      "metadata": {
        "id": "d5wuamF626PG"
      },
      "outputs": [],
      "source": [
        "categorical_transformer = Pipeline(\n",
        "    steps=[(\"onehot\", OneHotEncoder(sparse=False, handle_unknown='ignore'))]\n",
        ")\n",
        "\n",
        "numerical_transformer = Pipeline(\n",
        "    steps=[('scaler', StandardScaler())]\n",
        ")\n",
        "\n",
        "col_transformer = ColumnTransformer(\n",
        "    transformers=[\n",
        "        ('numeric', numerical_transformer, numerical_features),\n",
        "        ('categorical', categorical_transformer, categorical_features)\n",
        "    ],\n",
        "    remainder='passthrough'\n",
        ")"
      ]
    },
    {
      "cell_type": "markdown",
      "metadata": {
        "id": "2nbtIhO7_yUY"
      },
      "source": [
        "# Model"
      ]
    },
    {
      "cell_type": "markdown",
      "metadata": {},
      "source": [
        "Dummy model"
      ]
    },
    {
      "cell_type": "code",
      "execution_count": 70,
      "metadata": {
        "colab": {
          "base_uri": "https://localhost:8080/"
        },
        "id": "_WuhDGNfD32c",
        "outputId": "290c3095-136c-4d21-dfbd-26ae043c19d5"
      },
      "outputs": [
        {
          "name": "stdout",
          "output_type": "stream",
          "text": [
            "Normal label score:  0.8356367226061204\n"
          ]
        }
      ],
      "source": [
        "# Create a dummy model for normal label and binary label\n",
        "\n",
        "dummy = DummyClassifier(strategy='most_frequent')\n",
        "dummy.fit(X_train, y_train)\n",
        "\n",
        "print(\"Normal label score: \", dummy.score(X_test, y_test))"
      ]
    },
    {
      "cell_type": "markdown",
      "metadata": {},
      "source": [
        "3 pipelines for hyperparameter optimization\n",
        "\n",
        "1 pipeline for normal labels (SVC), 2 pipelines for binned labels (SVC, decision tree)"
      ]
    },
    {
      "cell_type": "code",
      "execution_count": 42,
      "metadata": {
        "id": "xUbPXEKIO0Af"
      },
      "outputs": [],
      "source": [
        "# Create pipelines for hyperparameter optimization\n",
        "\n",
        "## For normal labels\n",
        "log_pipe = Pipeline(\n",
        "    steps=[('columntransformer', col_transformer),\n",
        "           ('logreg', LogisticRegression())]\n",
        ")"
      ]
    },
    {
      "cell_type": "markdown",
      "metadata": {
        "id": "0m_xjQwW8JXN"
      },
      "source": [
        "Model for Normal Labels"
      ]
    },
    {
      "cell_type": "code",
      "execution_count": 87,
      "metadata": {
        "colab": {
          "base_uri": "https://localhost:8080/"
        },
        "id": "NhRpAT5mOsE7",
        "outputId": "91e5d69d-35f0-4380-c1cc-716b3611744d"
      },
      "outputs": [],
      "source": [
        "# Create a Logistic Regression model\n",
        "\n",
        "def logreg(train_features, train_label, test_features, test_label):\n",
        "    # set a param\n",
        "    param = {'logreg__C': [0.01, 0.1, 1, 10, 100, 1000]}\n",
        "\n",
        "    # Set random_search\n",
        "    # model should be changed to pipe\n",
        "    grid =GridSearchCV(log_pipe, param, cv=10, n_jobs=-1, return_train_score=True)\n",
        "    grid.fit(train_features, train_label)\n",
        "\n",
        "    grid_result = pd.DataFrame(grid.cv_results_)[[\"params\", \"mean_test_score\", \"mean_train_score\", \"rank_test_score\"]].sort_values(by='rank_test_score')\n",
        "\n",
        "    # get best parameter\n",
        "    log_C = grid.best_params_['logreg__C']\n",
        "\n",
        "    # Create new pipeline with optimized hyperparameter\n",
        "    pipe_reg = Pipeline(\n",
        "        steps=[('columntransformer', col_transformer),\n",
        "            ('svc', LogisticRegression(C=log_C))]\n",
        "    )\n",
        "\n",
        "    # # Train and test the model\n",
        "    pipe_reg.fit(train_features, train_label)\n",
        "    testscore = pipe_reg.score(test_features, test_label)\n",
        "    predict = pipe_reg.predict(test_features)\n",
        "    proba = pipe_reg.predict_proba(test_features)\n",
        "\n",
        "    predict_table = pd.DataFrame({'Actual': test_label.to_numpy(), 'Predicted': predict, 'Probability': proba.tolist()})\n",
        "\n",
        "    return testscore, predict, predict_table, grid_result, proba"
      ]
    },
    {
      "cell_type": "code",
      "execution_count": 88,
      "metadata": {},
      "outputs": [],
      "source": [
        "logreg_testscore, logreg_predict, df_logreg_predict, logreg_grid, logreg_proba = logreg(X_train, y_train, X_test, y_test)"
      ]
    },
    {
      "cell_type": "markdown",
      "metadata": {},
      "source": [
        "Note that for the binned label, the two models svc_bin and dec_tree_bin produces the exact same test score. This is tested for multiple random_state when splitting the data. No explanation for this phenomenon yet, will investigate further."
      ]
    },
    {
      "cell_type": "markdown",
      "metadata": {
        "id": "No2OC3DyJnn-"
      },
      "source": [
        "## Model Evaluation"
      ]
    },
    {
      "cell_type": "markdown",
      "metadata": {
        "id": "i_5JS-KhL-XO"
      },
      "source": [
        "Model Evaluation : SVC"
      ]
    },
    {
      "cell_type": "code",
      "execution_count": 82,
      "metadata": {
        "colab": {
          "base_uri": "https://localhost:8080/"
        },
        "id": "3IW9s6myME16",
        "outputId": "6745256c-1311-4002-82cb-1c32244a781d"
      },
      "outputs": [
        {
          "data": {
            "text/plain": [
              "array([[   1,  332],\n",
              "       [   0, 1693]], dtype=int64)"
            ]
          },
          "execution_count": 82,
          "metadata": {},
          "output_type": "execute_result"
        }
      ],
      "source": [
        "# confusion matrix to visualize the performance of the algorithm.\n",
        "cm_logreg = confusion_matrix(y_test, logreg_predict)\n",
        "cm_logreg"
      ]
    },
    {
      "cell_type": "code",
      "execution_count": 89,
      "metadata": {},
      "outputs": [
        {
          "data": {
            "text/html": [
              "<div>\n",
              "<style scoped>\n",
              "    .dataframe tbody tr th:only-of-type {\n",
              "        vertical-align: middle;\n",
              "    }\n",
              "\n",
              "    .dataframe tbody tr th {\n",
              "        vertical-align: top;\n",
              "    }\n",
              "\n",
              "    .dataframe thead th {\n",
              "        text-align: right;\n",
              "    }\n",
              "</style>\n",
              "<table border=\"1\" class=\"dataframe\">\n",
              "  <thead>\n",
              "    <tr style=\"text-align: right;\">\n",
              "      <th></th>\n",
              "      <th>Actual</th>\n",
              "      <th>Predicted</th>\n",
              "      <th>Probability</th>\n",
              "    </tr>\n",
              "  </thead>\n",
              "  <tbody>\n",
              "    <tr>\n",
              "      <th>0</th>\n",
              "      <td>Existing Customer</td>\n",
              "      <td>Existing Customer</td>\n",
              "      <td>[0.35231114789956064, 0.6476888521004394]</td>\n",
              "    </tr>\n",
              "    <tr>\n",
              "      <th>1</th>\n",
              "      <td>Existing Customer</td>\n",
              "      <td>Existing Customer</td>\n",
              "      <td>[0.27409962039847346, 0.7259003796015265]</td>\n",
              "    </tr>\n",
              "    <tr>\n",
              "      <th>2</th>\n",
              "      <td>Existing Customer</td>\n",
              "      <td>Existing Customer</td>\n",
              "      <td>[0.14636438620020398, 0.853635613799796]</td>\n",
              "    </tr>\n",
              "    <tr>\n",
              "      <th>3</th>\n",
              "      <td>Existing Customer</td>\n",
              "      <td>Existing Customer</td>\n",
              "      <td>[0.1238579130170695, 0.8761420869829305]</td>\n",
              "    </tr>\n",
              "    <tr>\n",
              "      <th>4</th>\n",
              "      <td>Existing Customer</td>\n",
              "      <td>Existing Customer</td>\n",
              "      <td>[0.015438260033513784, 0.9845617399664862]</td>\n",
              "    </tr>\n",
              "    <tr>\n",
              "      <th>...</th>\n",
              "      <td>...</td>\n",
              "      <td>...</td>\n",
              "      <td>...</td>\n",
              "    </tr>\n",
              "    <tr>\n",
              "      <th>2021</th>\n",
              "      <td>Existing Customer</td>\n",
              "      <td>Existing Customer</td>\n",
              "      <td>[0.4403117232106306, 0.5596882767893694]</td>\n",
              "    </tr>\n",
              "    <tr>\n",
              "      <th>2022</th>\n",
              "      <td>Existing Customer</td>\n",
              "      <td>Existing Customer</td>\n",
              "      <td>[0.10700312814368551, 0.8929968718563145]</td>\n",
              "    </tr>\n",
              "    <tr>\n",
              "      <th>2023</th>\n",
              "      <td>Attrited Customer</td>\n",
              "      <td>Existing Customer</td>\n",
              "      <td>[0.04778391024624806, 0.9522160897537519]</td>\n",
              "    </tr>\n",
              "    <tr>\n",
              "      <th>2024</th>\n",
              "      <td>Existing Customer</td>\n",
              "      <td>Existing Customer</td>\n",
              "      <td>[0.4441071370928954, 0.5558928629071046]</td>\n",
              "    </tr>\n",
              "    <tr>\n",
              "      <th>2025</th>\n",
              "      <td>Existing Customer</td>\n",
              "      <td>Existing Customer</td>\n",
              "      <td>[0.11810908528424091, 0.8818909147157591]</td>\n",
              "    </tr>\n",
              "  </tbody>\n",
              "</table>\n",
              "<p>2026 rows × 3 columns</p>\n",
              "</div>"
            ],
            "text/plain": [
              "                 Actual          Predicted  \\\n",
              "0     Existing Customer  Existing Customer   \n",
              "1     Existing Customer  Existing Customer   \n",
              "2     Existing Customer  Existing Customer   \n",
              "3     Existing Customer  Existing Customer   \n",
              "4     Existing Customer  Existing Customer   \n",
              "...                 ...                ...   \n",
              "2021  Existing Customer  Existing Customer   \n",
              "2022  Existing Customer  Existing Customer   \n",
              "2023  Attrited Customer  Existing Customer   \n",
              "2024  Existing Customer  Existing Customer   \n",
              "2025  Existing Customer  Existing Customer   \n",
              "\n",
              "                                     Probability  \n",
              "0      [0.35231114789956064, 0.6476888521004394]  \n",
              "1      [0.27409962039847346, 0.7259003796015265]  \n",
              "2       [0.14636438620020398, 0.853635613799796]  \n",
              "3       [0.1238579130170695, 0.8761420869829305]  \n",
              "4     [0.015438260033513784, 0.9845617399664862]  \n",
              "...                                          ...  \n",
              "2021    [0.4403117232106306, 0.5596882767893694]  \n",
              "2022   [0.10700312814368551, 0.8929968718563145]  \n",
              "2023   [0.04778391024624806, 0.9522160897537519]  \n",
              "2024    [0.4441071370928954, 0.5558928629071046]  \n",
              "2025   [0.11810908528424091, 0.8818909147157591]  \n",
              "\n",
              "[2026 rows x 3 columns]"
            ]
          },
          "execution_count": 89,
          "metadata": {},
          "output_type": "execute_result"
        }
      ],
      "source": [
        "df_logreg_predict"
      ]
    },
    {
      "cell_type": "markdown",
      "metadata": {},
      "source": [
        "Note the confusion matrix below. The model only predicts \"Sometimes\" and \"Never\". This is likely attributed to the small training data. An experiment was done where all observations where 'work_interfere' = 'Sometimes' is removed and all the remaining classes can be predicted. This is another reason why collapsing the label into 2 classes is preferred."
      ]
    },
    {
      "cell_type": "code",
      "execution_count": 75,
      "metadata": {
        "colab": {
          "base_uri": "https://localhost:8080/",
          "height": 303
        },
        "id": "tsH1hxgckObk",
        "outputId": "2ff2bd7b-6f7f-4c58-a9ec-5847a75a8a67"
      },
      "outputs": [
        {
          "data": {
            "text/plain": [
              "<sklearn.metrics._plot.confusion_matrix.ConfusionMatrixDisplay at 0x1fc17d8a400>"
            ]
          },
          "execution_count": 75,
          "metadata": {},
          "output_type": "execute_result"
        },
        {
          "data": {
            "image/png": "[encoded data removed]",
            "text/plain": [
              "<Figure size 432x288 with 2 Axes>"
            ]
          },
          "metadata": {
            "needs_background": "light"
          },
          "output_type": "display_data"
        }
      ],
      "source": [
        "# Confusion Matrix plot \n",
        "\n",
        "plt.rc('font', size=12) # bigger font sizes\n",
        "ConfusionMatrixDisplay(cm_logreg, display_labels=['Attrited Customer', 'Existing Customer']).plot()"
      ]
    },
    {
      "cell_type": "code",
      "execution_count": 76,
      "metadata": {
        "colab": {
          "base_uri": "https://localhost:8080/"
        },
        "id": "oc6ez_NGg06e",
        "outputId": "c738b51c-2486-422b-f72a-30aee0dd800a"
      },
      "outputs": [
        {
          "name": "stdout",
          "output_type": "stream",
          "text": [
            "                   precision    recall  f1-score   support\n",
            "\n",
            "Attrited Customer     1.0000    0.0030    0.0060       333\n",
            "Existing Customer     0.8360    1.0000    0.9107      1693\n",
            "\n",
            "         accuracy                         0.8361      2026\n",
            "        macro avg     0.9180    0.5015    0.4583      2026\n",
            "     weighted avg     0.8630    0.8361    0.7620      2026\n",
            "\n"
          ]
        }
      ],
      "source": [
        "# Classification Report  \n",
        "print(classification_report(\n",
        "        y_test,\n",
        "        logreg_predict,digits=4,\n",
        "        target_names=[\"Attrited Customer\", \"Existing Customer\"]))"
      ]
    },
    {
      "cell_type": "code",
      "execution_count": 77,
      "metadata": {
        "colab": {
          "base_uri": "https://localhost:8080/"
        },
        "id": "Ci9hpCQHll6Z",
        "outputId": "eebe31d9-0a94-46fe-fcea-55423fd12f8d"
      },
      "outputs": [
        {
          "data": {
            "text/plain": [
              "Existing Customer    0.840267\n",
              "Attrited Customer    0.159733\n",
              "Name: Attrition_Flag, dtype: float64"
            ]
          },
          "execution_count": 77,
          "metadata": {},
          "output_type": "execute_result"
        }
      ],
      "source": [
        "# Check for classification balance\n",
        "y_train.value_counts('Attrition_Flag')"
      ]
    }
  ],
  "metadata": {
    "colab": {
      "collapsed_sections": [],
      "name": "BAIT 509.ipynb",
      "provenance": []
    },
    "kernelspec": {
      "display_name": "Python 3",
      "name": "python3"
    },
    "language_info": {
      "codemirror_mode": {
        "name": "ipython",
        "version": 3
      },
      "file_extension": ".py",
      "mimetype": "text/x-python",
      "name": "python",
      "nbconvert_exporter": "python",
      "pygments_lexer": "ipython3",
      "version": "3.8.8"
    }
  },
  "nbformat": 4,
  "nbformat_minor": 0
}
